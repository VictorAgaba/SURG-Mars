{
 "cells": [
  {
   "cell_type": "code",
   "execution_count": 1,
   "metadata": {},
   "outputs": [
    {
     "data": {
      "text/plain": [
       "<module 'function_repo' from 'c:\\\\Users\\\\18723\\\\Documents\\\\GitHub\\\\SURG-Mars\\\\function_repo.py'>"
      ]
     },
     "execution_count": 1,
     "metadata": {},
     "output_type": "execute_result"
    }
   ],
   "source": [
    "import numpy as np\n",
    "import pandas as pd\n",
    "import matplotlib.pyplot as plt\n",
    "import scipy.stats as stats\n",
    "from obspy.taup import TauPyModel\n",
    "import function_repo as fr\n",
    "import importlib\n",
    "importlib.reload(fr)\n",
    "np.random.seed(1029)"
   ]
  },
  {
   "cell_type": "code",
   "execution_count": null,
   "metadata": {},
   "outputs": [],
   "source": [
    "\"\"\"\n",
    "THIS IS WHERE IT'S AT\n",
    "Look at Suzan's notes\n",
    "Make my own notes\n",
    "Systematize the process\n",
    "Comment this code\n",
    "\"\"\"\n",
    "\n",
    "\"\"\"\n",
    "Use smaller ellipsoids for more definitive visualizations\n",
    "Plot the vectors of amplitudes\n",
    "\n",
    "there's something about the shape of the ellipsoid...\n",
    "test my_tp2sdr rigorously against tp2sdr\n",
    "\n",
    "Forward problem: scan through entire space\n",
    "Plot same mechanism over\n",
    "az = [0,360] from compass north\n",
    "takeoff = [0,180] from south pole\n",
    "turn distance into takeoff angles, scan distances\n",
    "revise the beachball code to accurately represent the beachball\n",
    "\"\"\""
   ]
  },
  {
   "cell_type": "code",
   "execution_count": null,
   "metadata": {},
   "outputs": [],
   "source": [
    "\"\"\"\n",
    "CODE FLOW:\n",
    "1.\n",
    "\"\"\""
   ]
  }
 ],
 "metadata": {
  "kernelspec": {
   "display_name": "base",
   "language": "python",
   "name": "python3"
  },
  "language_info": {
   "codemirror_mode": {
    "name": "ipython",
    "version": 3
   },
   "file_extension": ".py",
   "mimetype": "text/x-python",
   "name": "python",
   "nbconvert_exporter": "python",
   "pygments_lexer": "ipython3",
   "version": "3.10.9"
  },
  "orig_nbformat": 4
 },
 "nbformat": 4,
 "nbformat_minor": 2
}
